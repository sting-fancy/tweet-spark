{
 "cells": [
  {
   "cell_type": "markdown",
   "metadata": {
    "focus": false,
    "id": "e63a37d5-7b75-44af-a9d6-82f958ad4d13"
   },
   "source": [
    "## 1 - Write tweets to file "
   ]
  },
  {
   "cell_type": "code",
   "execution_count": null,
   "metadata": {
    "focus": false,
    "id": "17cc9c16-04ca-46ad-8d68-fb91ad888d9c"
   },
   "outputs": [],
   "source": [
    "import tweepy #4.10 using twitter API V2\n",
    "import os # for environment variable\n",
    "\n",
    "def makeFolder(path):\n",
    "    try:\n",
    "        os.mkdir(path)\n",
    "        print(\"Directory '% s' created\" % path)\n",
    "    except BaseException as e:\n",
    "        print(\"Error on \",path,\" : \",e)\n",
    "\n",
    "stream_folder = './tweets_folder'\n",
    "makeFolder(stream_folder)"
   ]
  },
  {
   "cell_type": "code",
   "execution_count": null,
   "metadata": {
    "focus": false,
    "id": "82f05a13-843c-4f10-b40c-aa1afbcec5df"
   },
   "outputs": [],
   "source": [
    "class TweetWriter(tweepy.StreamingClient):\n",
    "    def on_tweet(self, tweet):\n",
    "        # prints the id to show the files saved\n",
    "        print(tweet.id)\n",
    "        filepath = os.path.join(stream_folder, str(tweet.id)+ \".csv\")\n",
    "        with open(filepath, 'w') as outfile:\n",
    "            # stores to csv without headers\n",
    "            outfile.write(str(tweet.id) + \",\" + tweet.text)"
   ]
  },
  {
   "cell_type": "code",
   "execution_count": null,
   "metadata": {
    "focus": false,
    "id": "3321e1e9-3628-418c-9885-89c2218442b3"
   },
   "outputs": [],
   "source": [
    "def getBearerToken():\n",
    "    try:\n",
    "       os.environ[\"BEARER_TOKEN\"]\n",
    "       return os.getenv(\"BEARER_TOKEN\")\n",
    "    except KeyError:\n",
    "       print(\"Please set the environment variable BEARER_TOKEN\")\n",
    "       exit()\n",
    "\n",
    "def sendData():\n",
    "    printer = TweetWriter(bearer_token=bearer_token)\n",
    "    # using sample which has unlimited usage\n",
    "    printer.sample()"
   ]
  },
  {
   "cell_type": "code",
   "execution_count": null,
   "metadata": {
    "focus": false,
    "id": "81347727-5aa4-4048-9d01-4ef0b8c8f977"
   },
   "outputs": [],
   "source": [
    "# get token from os\n",
    "bearer_token = getBearerToken()"
   ]
  },
  {
   "cell_type": "code",
   "execution_count": null,
   "metadata": {
    "focus": false,
    "id": "7636f626-ced6-41c0-92b7-969d5c5d25d6"
   },
   "outputs": [],
   "source": [
    "# send tweets to files\n",
    "sendData()"
   ]
  },
  {
   "cell_type": "code",
   "execution_count": null,
   "metadata": {
    "focus": false,
    "id": "41c62386-61b5-4917-9933-128d6114ae3d"
   },
   "outputs": [],
   "source": []
  }
 ],
 "metadata": {
  "kernelspec": {
   "display_name": "Python 3 (ipykernel)",
   "language": "python",
   "name": "python3"
  },
  "language_info": {
   "codemirror_mode": {
    "name": "ipython",
    "version": 3
   },
   "file_extension": ".py",
   "mimetype": "text/x-python",
   "name": "python",
   "nbconvert_exporter": "python",
   "pygments_lexer": "ipython3",
   "version": "3.8.10"
  }
 },
 "nbformat": 4,
 "nbformat_minor": 1
}
